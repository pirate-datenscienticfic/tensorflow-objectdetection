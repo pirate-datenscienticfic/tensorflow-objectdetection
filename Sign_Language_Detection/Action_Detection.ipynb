{
 "cells": [
  {
   "cell_type": "markdown",
   "id": "8ffc8c70",
   "metadata": {},
   "source": [
    "# Action Detection\n",
    "\n",
    "## Sign_Language_Detection\n",
    "\n",
    "### S-1: Import and Install Dependencies"
   ]
  },
  {
   "cell_type": "code",
   "execution_count": 1,
   "id": "3129ad76",
   "metadata": {},
   "outputs": [],
   "source": [
    "# !pip install tensorflow tensorflow-gpu opencv-python mediapipe sklearn matplotlib"
   ]
  },
  {
   "cell_type": "code",
   "execution_count": 2,
   "id": "1059c226",
   "metadata": {},
   "outputs": [],
   "source": [
    "import cv2\n",
    "import numpy as np\n",
    "import os\n",
    "import matplotlib.pyplot as plt\n",
    "import time\n",
    "import mediapipe as mp"
   ]
  },
  {
   "cell_type": "markdown",
   "id": "deca2977",
   "metadata": {},
   "source": [
    "### S-2: KeyPoints using MP Holistic"
   ]
  },
  {
   "cell_type": "code",
   "execution_count": 46,
   "id": "abff90b3",
   "metadata": {},
   "outputs": [],
   "source": [
    "mp_holistic = mp.solutions.holistic ## Holistic Model\n",
    "mp_drawing = mp.solutions.drawing_utils # Drawing Utilities"
   ]
  },
  {
   "cell_type": "code",
   "execution_count": 52,
   "id": "98ac6734",
   "metadata": {},
   "outputs": [],
   "source": [
    "def mediapipe_detection(image, model):\n",
    "    image = cv2.cvtColor(image, cv2.COLOR_BGR2RGB)  # COLOR Conversion BGR 2 RGB\n",
    "    image.flags.writeable = False                   # Image is no longer writable\n",
    "    results = model.process(image)                  # Make prediction\n",
    "    image.flags.writeable = True                    # Image is now writeable\n",
    "    image = cv2.cvtColor(image, cv2.COLOR_RGB2BGR)  # COLOR Conversion RGB 2 BGR\n",
    "\n",
    "    return image, results"
   ]
  },
  {
   "cell_type": "code",
   "execution_count": 58,
   "id": "88d540b8",
   "metadata": {},
   "outputs": [],
   "source": [
    "# mp.solutions.holistic??\n",
    "# mp_holistic.POSE_CONNECTIONS??"
   ]
  },
  {
   "cell_type": "code",
   "execution_count": 68,
   "id": "c0f31e54",
   "metadata": {},
   "outputs": [],
   "source": [
    "def draw_landmarks(image, results):\n",
    "    mp_drawing.draw_landmarks(image, results.face_landmarks, mp_holistic.FACEMESH_TESSELATION)  # Draw Face Connection\n",
    "    mp_drawing.draw_landmarks(image, results.pose_landmarks, mp_holistic.POSE_CONNECTIONS)  # Draw Pose Connection\n",
    "    mp_drawing.draw_landmarks(image, results.left_hand_landmarks, mp_holistic.HAND_CONNECTIONS)  # Draw Left Hand Connection\n",
    "    mp_drawing.draw_landmarks(image, results.right_hand_landmarks, mp_holistic.HAND_CONNECTIONS)  # Draw Right Hand Connection\n"
   ]
  },
  {
   "cell_type": "code",
   "execution_count": 85,
   "id": "44502898",
   "metadata": {},
   "outputs": [],
   "source": [
    "def draw_styled_landmarks(image, results):\n",
    "    # Draw Face Connection\n",
    "    mp_drawing.draw_landmarks(image, results.face_landmarks, mp_holistic.FACEMESH_TESSELATION,\n",
    "                             mp_drawing.DrawingSpec(color=(180, 25, 100), thickness=1, circle_radius=1),\n",
    "                             mp_drawing.DrawingSpec(color=(230, 0, 150), thickness=1, circle_radius=1)\n",
    "                             )\n",
    "    # Draw Pose Connection\n",
    "    mp_drawing.draw_landmarks(image, results.pose_landmarks, mp_holistic.POSE_CONNECTIONS,\n",
    "                             mp_drawing.DrawingSpec(color=(80, 150, 10), thickness=2, circle_radius=3),\n",
    "                             mp_drawing.DrawingSpec(color=(30, 50, 12), thickness=2, circle_radius=3)\n",
    "                             )\n",
    "    # Draw Left Hand Connection\n",
    "    mp_drawing.draw_landmarks(image, results.left_hand_landmarks, mp_holistic.HAND_CONNECTIONS,\n",
    "                             mp_drawing.DrawingSpec(color=(80, 25, 200), thickness=2, circle_radius=3),\n",
    "                             mp_drawing.DrawingSpec(color=(200, 10, 150), thickness=2, circle_radius=3)\n",
    "                             )\n",
    "    # Draw Right Hand Connection\n",
    "    mp_drawing.draw_landmarks(image, results.right_hand_landmarks, mp_holistic.HAND_CONNECTIONS,\n",
    "                             mp_drawing.DrawingSpec(color=(200, 20, 250), thickness=2, circle_radius=3),\n",
    "                             mp_drawing.DrawingSpec(color=(230, 160, 50), thickness=2, circle_radius=3)\n",
    "                             )  "
   ]
  },
  {
   "cell_type": "code",
   "execution_count": 86,
   "id": "ebfb414a",
   "metadata": {
    "collapsed": true
   },
   "outputs": [
    {
     "name": "stdout",
     "output_type": "stream",
     "text": [
      "<class 'mediapipe.python.solution_base.SolutionOutputs'>\n",
      "<class 'mediapipe.python.solution_base.SolutionOutputs'>\n",
      "<class 'mediapipe.python.solution_base.SolutionOutputs'>\n",
      "<class 'mediapipe.python.solution_base.SolutionOutputs'>\n",
      "<class 'mediapipe.python.solution_base.SolutionOutputs'>\n",
      "<class 'mediapipe.python.solution_base.SolutionOutputs'>\n",
      "<class 'mediapipe.python.solution_base.SolutionOutputs'>\n",
      "<class 'mediapipe.python.solution_base.SolutionOutputs'>\n",
      "<class 'mediapipe.python.solution_base.SolutionOutputs'>\n",
      "<class 'mediapipe.python.solution_base.SolutionOutputs'>\n",
      "<class 'mediapipe.python.solution_base.SolutionOutputs'>\n",
      "<class 'mediapipe.python.solution_base.SolutionOutputs'>\n",
      "<class 'mediapipe.python.solution_base.SolutionOutputs'>\n",
      "<class 'mediapipe.python.solution_base.SolutionOutputs'>\n",
      "<class 'mediapipe.python.solution_base.SolutionOutputs'>\n",
      "<class 'mediapipe.python.solution_base.SolutionOutputs'>\n",
      "<class 'mediapipe.python.solution_base.SolutionOutputs'>\n",
      "<class 'mediapipe.python.solution_base.SolutionOutputs'>\n",
      "<class 'mediapipe.python.solution_base.SolutionOutputs'>\n",
      "<class 'mediapipe.python.solution_base.SolutionOutputs'>\n",
      "<class 'mediapipe.python.solution_base.SolutionOutputs'>\n",
      "<class 'mediapipe.python.solution_base.SolutionOutputs'>\n",
      "<class 'mediapipe.python.solution_base.SolutionOutputs'>\n",
      "<class 'mediapipe.python.solution_base.SolutionOutputs'>\n",
      "<class 'mediapipe.python.solution_base.SolutionOutputs'>\n",
      "<class 'mediapipe.python.solution_base.SolutionOutputs'>\n",
      "<class 'mediapipe.python.solution_base.SolutionOutputs'>\n",
      "<class 'mediapipe.python.solution_base.SolutionOutputs'>\n",
      "<class 'mediapipe.python.solution_base.SolutionOutputs'>\n",
      "<class 'mediapipe.python.solution_base.SolutionOutputs'>\n",
      "<class 'mediapipe.python.solution_base.SolutionOutputs'>\n",
      "<class 'mediapipe.python.solution_base.SolutionOutputs'>\n",
      "<class 'mediapipe.python.solution_base.SolutionOutputs'>\n",
      "<class 'mediapipe.python.solution_base.SolutionOutputs'>\n",
      "<class 'mediapipe.python.solution_base.SolutionOutputs'>\n",
      "<class 'mediapipe.python.solution_base.SolutionOutputs'>\n",
      "<class 'mediapipe.python.solution_base.SolutionOutputs'>\n",
      "<class 'mediapipe.python.solution_base.SolutionOutputs'>\n",
      "<class 'mediapipe.python.solution_base.SolutionOutputs'>\n",
      "<class 'mediapipe.python.solution_base.SolutionOutputs'>\n",
      "<class 'mediapipe.python.solution_base.SolutionOutputs'>\n",
      "<class 'mediapipe.python.solution_base.SolutionOutputs'>\n",
      "<class 'mediapipe.python.solution_base.SolutionOutputs'>\n",
      "<class 'mediapipe.python.solution_base.SolutionOutputs'>\n",
      "<class 'mediapipe.python.solution_base.SolutionOutputs'>\n",
      "<class 'mediapipe.python.solution_base.SolutionOutputs'>\n",
      "<class 'mediapipe.python.solution_base.SolutionOutputs'>\n",
      "<class 'mediapipe.python.solution_base.SolutionOutputs'>\n",
      "<class 'mediapipe.python.solution_base.SolutionOutputs'>\n",
      "<class 'mediapipe.python.solution_base.SolutionOutputs'>\n",
      "<class 'mediapipe.python.solution_base.SolutionOutputs'>\n"
     ]
    }
   ],
   "source": [
    "cap = cv2.VideoCapture(0)\n",
    "\n",
    "## Set the MediaPipe Model\n",
    "with mp_holistic.Holistic(min_detection_confidence=0.5, min_tracking_confidence=0.5) as holistic:\n",
    "    \n",
    "    ## Loop through actions\n",
    "    for action in actions:\n",
    "        \n",
    "        ## Loop through sequences aka videos\n",
    "        for sequence in range(no_sequences):\n",
    "            \n",
    "            ## Loop through video length aka sequence Length\n",
    "            for frame_num in range(sequence_length):\n",
    "        \n",
    "                ## Read feed\n",
    "                ret, frame = cap.read()\n",
    "\n",
    "                ## Make Detections\n",
    "                image, results = mediapipe_detection(frame, holistic)\n",
    "                print(results)\n",
    "\n",
    "                ## Draw Landmarks\n",
    "                draw_styled_landmarks(image, results)\n",
    "\n",
    "                ## Apply Wait(collection) logic\n",
    "                if frame_num == 0:\n",
    "                    cv2.putText(image, \"STARTING COLLECTION\", (120, 200), cv2.FONT_HERSHEY_SIMPLEX, 1, (0, 255, 0), 4, cv2.LINE_AA)\n",
    "                    cv2.putText(image, \"Collecting frame for {} Video Number {}\".format(action, sequence), (15, 12), cv2.FONT_HERSHEY_SIMPLEX, 0.5, (0, 0, 255), 2, cv2.LINE_AA)\n",
    "                    \n",
    "                    ## Show to screen\n",
    "                    cv2.imshow('OpenCV Feed Frame', image)\n",
    "                    cv2.waitKey(1000)\n",
    "                else:\n",
    "                    cv2.putText(image, \"Collecting frame for {} Video Number {}\".format(action, sequence), (15, 12), cv2.FONT_HERSHEY_SIMPLEX, 0.5, (0, 0, 255), 2, cv2.LINE_AA)\n",
    "                    ## Show to screen\n",
    "                    cv2.imshow('OpenCV Feed Frame', image)\n",
    "                \n",
    "                keypoints = extract_keypoints(results)\n",
    "                npy_path = os.path.join(DATA_PATH, action, str(sequence), str(frame_num))\n",
    "                np.save(npy_path, keypoints)\n",
    "                \n",
    "                \n",
    "        \n",
    "                ## Break gracefully and peacefully\n",
    "                if cv2.waitKey(10) & 0xFF == ord('q'):\n",
    "                    break\n",
    "\n",
    "    cap.release()\n",
    "    cv2.destroyAllWindows()"
   ]
  },
  {
   "cell_type": "code",
   "execution_count": 87,
   "id": "3e2c57b8",
   "metadata": {},
   "outputs": [
    {
     "data": {
      "text/plain": [
       "468"
      ]
     },
     "execution_count": 87,
     "metadata": {},
     "output_type": "execute_result"
    }
   ],
   "source": [
    "len(results.face_landmarks.landmark)"
   ]
  },
  {
   "cell_type": "markdown",
   "id": "c22daeeb",
   "metadata": {},
   "source": [
    "### S-3: Extract KeyPoint Values"
   ]
  },
  {
   "cell_type": "code",
   "execution_count": 93,
   "id": "00350693",
   "metadata": {
    "collapsed": true
   },
   "outputs": [
    {
     "data": {
      "text/plain": [
       "landmark {\n",
       "  x: 0.5130502581596375\n",
       "  y: 0.5873997807502747\n",
       "  z: -1.1603999137878418\n",
       "  visibility: 0.9996923804283142\n",
       "}\n",
       "landmark {\n",
       "  x: 0.5358601808547974\n",
       "  y: 0.5253836512565613\n",
       "  z: -1.0856846570968628\n",
       "  visibility: 0.9995723962783813\n",
       "}\n",
       "landmark {\n",
       "  x: 0.5509148836135864\n",
       "  y: 0.5264476537704468\n",
       "  z: -1.0861692428588867\n",
       "  visibility: 0.9995740652084351\n",
       "}\n",
       "landmark {\n",
       "  x: 0.5655845999717712\n",
       "  y: 0.5280800461769104\n",
       "  z: -1.0864005088806152\n",
       "  visibility: 0.9995008707046509\n",
       "}\n",
       "landmark {\n",
       "  x: 0.479052871465683\n",
       "  y: 0.5263234972953796\n",
       "  z: -1.0927072763442993\n",
       "  visibility: 0.9995137453079224\n",
       "}\n",
       "landmark {\n",
       "  x: 0.458038330078125\n",
       "  y: 0.5282530188560486\n",
       "  z: -1.0923160314559937\n",
       "  visibility: 0.999535083770752\n",
       "}\n",
       "landmark {\n",
       "  x: 0.4383618235588074\n",
       "  y: 0.5301734209060669\n",
       "  z: -1.0927987098693848\n",
       "  visibility: 0.9995108842849731\n",
       "}\n",
       "landmark {\n",
       "  x: 0.5872141718864441\n",
       "  y: 0.564267098903656\n",
       "  z: -0.6316453218460083\n",
       "  visibility: 0.9996194243431091\n",
       "}\n",
       "landmark {\n",
       "  x: 0.4107882082462311\n",
       "  y: 0.5693593621253967\n",
       "  z: -0.6430191993713379\n",
       "  visibility: 0.9996132850646973\n",
       "}\n",
       "landmark {\n",
       "  x: 0.542724072933197\n",
       "  y: 0.6608338952064514\n",
       "  z: -0.9904529452323914\n",
       "  visibility: 0.9996321201324463\n",
       "}\n",
       "landmark {\n",
       "  x: 0.47480273246765137\n",
       "  y: 0.6622386574745178\n",
       "  z: -0.9948996305465698\n",
       "  visibility: 0.9996450543403625\n",
       "}\n",
       "landmark {\n",
       "  x: 0.7366100549697876\n",
       "  y: 0.9533771872520447\n",
       "  z: -0.38964447379112244\n",
       "  visibility: 0.9948790073394775\n",
       "}\n",
       "landmark {\n",
       "  x: 0.26901695132255554\n",
       "  y: 0.9622477293014526\n",
       "  z: -0.4160904288291931\n",
       "  visibility: 0.9852190613746643\n",
       "}\n",
       "landmark {\n",
       "  x: 0.8622792959213257\n",
       "  y: 1.3271942138671875\n",
       "  z: -0.49321264028549194\n",
       "  visibility: 0.6446137428283691\n",
       "}\n",
       "landmark {\n",
       "  x: 0.17668786644935608\n",
       "  y: 1.3873190879821777\n",
       "  z: -0.605327844619751\n",
       "  visibility: 0.6488266587257385\n",
       "}\n",
       "landmark {\n",
       "  x: 0.8335455060005188\n",
       "  y: 1.6413252353668213\n",
       "  z: -0.9940964579582214\n",
       "  visibility: 0.6935190558433533\n",
       "}\n",
       "landmark {\n",
       "  x: 0.20919182896614075\n",
       "  y: 1.5790430307388306\n",
       "  z: -1.4056178331375122\n",
       "  visibility: 0.6820675134658813\n",
       "}\n",
       "landmark {\n",
       "  x: 0.8561341166496277\n",
       "  y: 1.7648378610610962\n",
       "  z: -1.1439697742462158\n",
       "  visibility: 0.6845112442970276\n",
       "}\n",
       "landmark {\n",
       "  x: 0.20107953250408173\n",
       "  y: 1.672304391860962\n",
       "  z: -1.5895850658416748\n",
       "  visibility: 0.6666285991668701\n",
       "}\n",
       "landmark {\n",
       "  x: 0.8015316724777222\n",
       "  y: 1.7576565742492676\n",
       "  z: -1.1978652477264404\n",
       "  visibility: 0.6959638595581055\n",
       "}\n",
       "landmark {\n",
       "  x: 0.23941485583782196\n",
       "  y: 1.6430165767669678\n",
       "  z: -1.6686217784881592\n",
       "  visibility: 0.6877962350845337\n",
       "}\n",
       "landmark {\n",
       "  x: 0.7842921018600464\n",
       "  y: 1.7083990573883057\n",
       "  z: -1.0393155813217163\n",
       "  visibility: 0.6887944340705872\n",
       "}\n",
       "landmark {\n",
       "  x: 0.2488064467906952\n",
       "  y: 1.6052275896072388\n",
       "  z: -1.4620157480239868\n",
       "  visibility: 0.6739097833633423\n",
       "}\n",
       "landmark {\n",
       "  x: 0.6738096475601196\n",
       "  y: 1.745403528213501\n",
       "  z: -0.0970759391784668\n",
       "  visibility: 0.0033675669692456722\n",
       "}\n",
       "landmark {\n",
       "  x: 0.36994999647140503\n",
       "  y: 1.7557272911071777\n",
       "  z: 0.1027379184961319\n",
       "  visibility: 0.0025231007020920515\n",
       "}\n",
       "landmark {\n",
       "  x: 0.6812881827354431\n",
       "  y: 2.3584365844726562\n",
       "  z: 0.03563519939780235\n",
       "  visibility: 0.005999122746288776\n",
       "}\n",
       "landmark {\n",
       "  x: 0.39640557765960693\n",
       "  y: 2.3592729568481445\n",
       "  z: 0.20950618386268616\n",
       "  visibility: 0.0019360743463039398\n",
       "}\n",
       "landmark {\n",
       "  x: 0.6982788443565369\n",
       "  y: 2.9068684577941895\n",
       "  z: 0.777995228767395\n",
       "  visibility: 0.00020727599621750414\n",
       "}\n",
       "landmark {\n",
       "  x: 0.42373746633529663\n",
       "  y: 2.894548177719116\n",
       "  z: 0.7918421626091003\n",
       "  visibility: 6.161367491586134e-05\n",
       "}\n",
       "landmark {\n",
       "  x: 0.7085512280464172\n",
       "  y: 3.0108389854431152\n",
       "  z: 0.8139243125915527\n",
       "  visibility: 9.531685645924881e-05\n",
       "}\n",
       "landmark {\n",
       "  x: 0.42194581031799316\n",
       "  y: 2.9949309825897217\n",
       "  z: 0.8321303129196167\n",
       "  visibility: 7.340207957895473e-05\n",
       "}\n",
       "landmark {\n",
       "  x: 0.6560975909233093\n",
       "  y: 3.084887981414795\n",
       "  z: 0.18448026478290558\n",
       "  visibility: 0.000347352382959798\n",
       "}\n",
       "landmark {\n",
       "  x: 0.4751109182834625\n",
       "  y: 3.072422742843628\n",
       "  z: 0.1839299350976944\n",
       "  visibility: 0.00040688886656425893\n",
       "}"
      ]
     },
     "execution_count": 93,
     "metadata": {},
     "output_type": "execute_result"
    }
   ],
   "source": [
    "results.pose_landmarks"
   ]
  },
  {
   "cell_type": "code",
   "execution_count": 95,
   "id": "6609335f",
   "metadata": {},
   "outputs": [],
   "source": [
    "pose = []\n",
    "for res in results.pose_landmarks.landmark:\n",
    "    test = np.array([res.x, res.y, res.z, res.visibility])\n",
    "    pose.append(test)\n"
   ]
  },
  {
   "cell_type": "code",
   "execution_count": 96,
   "id": "90fb156d",
   "metadata": {},
   "outputs": [],
   "source": [
    "pose = np.array([[res.x, res.y, res.z, res.visibility] for res in results.pose_landmarks.landmark]).flatten() if results.pose_landmarks else np.zeros(33*4)\n",
    "face = np.array([[res.x, res.y, res.z] for res in results.face_landmarks.landmark]).flatten() if results.face_landmarks else np.zeros(468*3)\n",
    "lh = np.array([[res.x, res.y, res.z] for res in results.left_hand_landmarks.landmark]).flatten() if results.left_hand_landmarks else np.zeros(21*3)\n",
    "rh = np.array([[res.x, res.y, res.z] for res in results.right_hand_landmarks.landmark]).flatten() if results.right_hand_landmarks else np.zeros(21*3)\n"
   ]
  },
  {
   "cell_type": "code",
   "execution_count": 99,
   "id": "57c7bdb1",
   "metadata": {},
   "outputs": [
    {
     "data": {
      "text/plain": [
       "array([ 0.51121771,  0.66122895, -0.03472443, ...,  0.57483983,\n",
       "        0.53615522,  0.03458871])"
      ]
     },
     "execution_count": 99,
     "metadata": {},
     "output_type": "execute_result"
    }
   ],
   "source": [
    "face = np.array([[res.x, res.y, res.z] for res in results.face_landmarks.landmark]).flatten() if results.face_landmarks else np.zeros(468*3)\n",
    "\n",
    "face"
   ]
  },
  {
   "cell_type": "code",
   "execution_count": 100,
   "id": "f8e82217",
   "metadata": {},
   "outputs": [],
   "source": [
    "def extract_keypoints(results):\n",
    "    pose = np.array([[res.x, res.y, res.z, res.visibility] for res in results.pose_landmarks.landmark]).flatten() if results.pose_landmarks else np.zeros(33*4)\n",
    "    face = np.array([[res.x, res.y, res.z] for res in results.face_landmarks.landmark]).flatten() if results.face_landmarks else np.zeros(468*3)\n",
    "    lh = np.array([[res.x, res.y, res.z] for res in results.left_hand_landmarks.landmark]).flatten() if results.left_hand_landmarks else np.zeros(21*3)\n",
    "    rh = np.array([[res.x, res.y, res.z] for res in results.right_hand_landmarks.landmark]).flatten() if results.right_hand_landmarks else np.zeros(21*3)\n",
    "    \n",
    "    return np.concatenate([pose, face, lh, rh])\n"
   ]
  },
  {
   "cell_type": "code",
   "execution_count": 107,
   "id": "0578cb15",
   "metadata": {},
   "outputs": [
    {
     "data": {
      "text/plain": [
       "array([ 0.51305026,  0.58739978, -1.16039991, ...,  0.        ,\n",
       "        0.        ,  0.        ])"
      ]
     },
     "execution_count": 107,
     "metadata": {},
     "output_type": "execute_result"
    }
   ],
   "source": [
    "result_test = extract_keypoints(results)[:-15]\n",
    "\n",
    "result_test"
   ]
  },
  {
   "cell_type": "code",
   "execution_count": 102,
   "id": "f92a6d9e",
   "metadata": {},
   "outputs": [
    {
     "data": {
      "text/plain": [
       "1662"
      ]
     },
     "execution_count": 102,
     "metadata": {},
     "output_type": "execute_result"
    }
   ],
   "source": [
    "468*3 + 33*4 + 21*3 + 21*3"
   ]
  },
  {
   "cell_type": "code",
   "execution_count": 108,
   "id": "386f641e",
   "metadata": {},
   "outputs": [],
   "source": [
    "np.save('0', result_test)"
   ]
  },
  {
   "cell_type": "code",
   "execution_count": null,
   "id": "fbdf1ded",
   "metadata": {},
   "outputs": [],
   "source": []
  },
  {
   "cell_type": "markdown",
   "id": "c77b4530",
   "metadata": {},
   "source": [
    "### S-4: Setup Folders for Collection"
   ]
  },
  {
   "cell_type": "code",
   "execution_count": 103,
   "id": "52b1d542",
   "metadata": {},
   "outputs": [],
   "source": [
    "## PAth for exported data, numpy arrays\n",
    "DATA_PATH = os.path.join('MP_DATA')\n",
    "\n",
    "## Actions that we try to detect\n",
    "actions = np.array([\"hello\", \"thanks\", \"iloveyou\"])\n",
    "\n",
    "## Thirty videos worth of data\n",
    "no_sequences = 30\n",
    "\n",
    "## Videos are going to be 30 frames in length\n",
    "sequence_length = 30"
   ]
  },
  {
   "cell_type": "code",
   "execution_count": 104,
   "id": "7d4a9e48",
   "metadata": {},
   "outputs": [],
   "source": [
    "## Hello ---> # 0, # 1, # 3,... # 29\n",
    "## Thanks\n",
    "## I Love You"
   ]
  },
  {
   "cell_type": "code",
   "execution_count": 105,
   "id": "6da511ba",
   "metadata": {},
   "outputs": [],
   "source": [
    "for action in actions:\n",
    "    for sequence in range(no_sequences):\n",
    "        try:\n",
    "            os.makedirs(os.path.join(DATA_PATH, action, str(sequence)))\n",
    "        except:\n",
    "            pass"
   ]
  },
  {
   "cell_type": "code",
   "execution_count": null,
   "id": "5d5255f7",
   "metadata": {},
   "outputs": [],
   "source": []
  }
 ],
 "metadata": {
  "kernelspec": {
   "display_name": "Python 3 (ipykernel)",
   "language": "python",
   "name": "python3"
  },
  "language_info": {
   "codemirror_mode": {
    "name": "ipython",
    "version": 3
   },
   "file_extension": ".py",
   "mimetype": "text/x-python",
   "name": "python",
   "nbconvert_exporter": "python",
   "pygments_lexer": "ipython3",
   "version": "3.9.7"
  }
 },
 "nbformat": 4,
 "nbformat_minor": 5
}
